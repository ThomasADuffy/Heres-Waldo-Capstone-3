{
 "cells": [
  {
   "cell_type": "markdown",
   "metadata": {},
   "source": [
    "# Testing pictures and predictions"
   ]
  },
  {
   "cell_type": "code",
   "execution_count": 1,
   "metadata": {},
   "outputs": [],
   "source": [
    "import cv2\n",
    "import os\n",
    "import numpy as np\n",
    "from tensorflow.keras.preprocessing.image import ImageDataGenerator\n",
    "from tensorflow.keras.preprocessing.image import load_img,img_to_array\n",
    "from skimage.transform import rescale,resize\n",
    "from tensorflow.keras.models import Sequential,load_model\n",
    "from tensorflow.keras.layers import Conv2D, MaxPooling2D,Activation, Dropout, Flatten, Dense\n",
    "from skimage import io, color, filters\n",
    "import imutils\n",
    "import tensorflow as tf"
   ]
  },
  {
   "cell_type": "code",
   "execution_count": 13,
   "metadata": {},
   "outputs": [],
   "source": [
    "ROOTPATH = os.path.split(os.path.abspath(''))[0]\n",
    "IMGSPATH = os.path.join(ROOTPATH,'imgs')\n",
    "WALDOFOUNDPATH = os.path.join(IMGSPATH,'waldo_found')\n",
    "modelpath = os.path.join(ROOTPATH,'model')"
   ]
  },
  {
   "cell_type": "code",
   "execution_count": 31,
   "metadata": {},
   "outputs": [],
   "source": [
    "imgpath1=os.path.join(WALDOFOUNDPATH,'window0.jpg')\n"
   ]
  },
  {
   "cell_type": "code",
   "execution_count": 32,
   "metadata": {},
   "outputs": [],
   "source": [
    "keras_img1 = img_to_array(load_img(f'{imgpath1}'))\n",
    "\n"
   ]
  },
  {
   "cell_type": "code",
   "execution_count": 9,
   "metadata": {},
   "outputs": [
    {
     "data": {
      "text/plain": [
       "array([[[116.,  73.,  57.],\n",
       "        [114.,  77.,  25.],\n",
       "        [147., 110.,  39.],\n",
       "        ...,\n",
       "        [222., 216.,   8.],\n",
       "        [255., 240.,  17.],\n",
       "        [232., 209.,   0.]],\n",
       "\n",
       "       [[ 84.,  41.,  22.],\n",
       "        [136.,  99.,  47.],\n",
       "        [189., 152.,  82.],\n",
       "        ...,\n",
       "        [212., 205.,  28.],\n",
       "        [221., 208.,  15.],\n",
       "        [237., 220.,  19.]],\n",
       "\n",
       "       [[ 97.,  55.,  30.],\n",
       "        [142., 104.,  55.],\n",
       "        [175., 135.,  73.],\n",
       "        ...,\n",
       "        [231., 224.,  94.],\n",
       "        [231., 221.,  74.],\n",
       "        [237., 224.,  70.]],\n",
       "\n",
       "       ...,\n",
       "\n",
       "       [[140., 177.,  81.],\n",
       "        [121., 166.,  65.],\n",
       "        [128., 183.,  79.],\n",
       "        ...,\n",
       "        [220., 110., 119.],\n",
       "        [235., 135., 143.],\n",
       "        [210., 118., 123.]],\n",
       "\n",
       "       [[133., 190.,  85.],\n",
       "        [116., 169.,  65.],\n",
       "        [130., 177.,  75.],\n",
       "        ...,\n",
       "        [174.,  88.,  97.],\n",
       "        [141.,  87.,  87.],\n",
       "        [101.,  71.,  63.]],\n",
       "\n",
       "       [[112., 182.,  70.],\n",
       "        [138., 197.,  89.],\n",
       "        [148., 190.,  90.],\n",
       "        ...,\n",
       "        [110.,  51.,  53.],\n",
       "        [ 75.,  62.,  53.],\n",
       "        [ 61.,  83.,  62.]]], dtype=float32)"
      ]
     },
     "execution_count": 9,
     "metadata": {},
     "output_type": "execute_result"
    }
   ],
   "source": [
    "keras_img1"
   ]
  },
  {
   "cell_type": "code",
   "execution_count": 17,
   "metadata": {},
   "outputs": [],
   "source": [
    "window_gen=ImageDataGenerator(rescale=1./255).flow(np.array([keras_img1]))"
   ]
  },
  {
   "cell_type": "code",
   "execution_count": 14,
   "metadata": {},
   "outputs": [],
   "source": [
    "model=load_model(os.path.join(modelpath,\"model_v2.h5\"))"
   ]
  },
  {
   "cell_type": "code",
   "execution_count": 18,
   "metadata": {},
   "outputs": [
    {
     "data": {
      "text/plain": [
       "<keras_preprocessing.image.numpy_array_iterator.NumpyArrayIterator at 0x7fdea052fa90>"
      ]
     },
     "execution_count": 18,
     "metadata": {},
     "output_type": "execute_result"
    }
   ],
   "source": [
    "window_gen"
   ]
  },
  {
   "cell_type": "code",
   "execution_count": 21,
   "metadata": {},
   "outputs": [
    {
     "data": {
      "text/plain": [
       "0.9630594"
      ]
     },
     "execution_count": 21,
     "metadata": {},
     "output_type": "execute_result"
    }
   ],
   "source": [
    "model.predict(window_gen)[0][0]"
   ]
  },
  {
   "cell_type": "code",
   "execution_count": 22,
   "metadata": {},
   "outputs": [],
   "source": [
    "from PIL import Image"
   ]
  },
  {
   "cell_type": "code",
   "execution_count": 25,
   "metadata": {},
   "outputs": [],
   "source": [
    "img=Image.open(imgpath1)"
   ]
  },
  {
   "cell_type": "code",
   "execution_count": 39,
   "metadata": {},
   "outputs": [
    {
     "data": {
      "text/plain": [
       "(array([], dtype=int64), array([], dtype=int64), array([], dtype=int64))"
      ]
     },
     "execution_count": 39,
     "metadata": {},
     "output_type": "execute_result"
    }
   ],
   "source": [
    "np.where((np.array(img)-keras_img1)!=0)"
   ]
  },
  {
   "cell_type": "code",
   "execution_count": 33,
   "metadata": {},
   "outputs": [
    {
     "data": {
      "text/plain": [
       "array([[[ 31,  19,   0],\n",
       "        [ 24,  12,   0],\n",
       "        [ 25,  14,   0],\n",
       "        ...,\n",
       "        [ 23,  13,  24],\n",
       "        [ 22,  14,  27],\n",
       "        [ 22,  14,  27]],\n",
       "\n",
       "       [[ 19,  14,   0],\n",
       "        [ 21,  16,   0],\n",
       "        [ 20,  17,   0],\n",
       "        ...,\n",
       "        [ 24,  23,  18],\n",
       "        [ 17,  16,  12],\n",
       "        [ 15,  16,  11]],\n",
       "\n",
       "       [[  9,  15,   1],\n",
       "        [ 15,  23,  10],\n",
       "        [ 14,  22,   9],\n",
       "        ...,\n",
       "        [ 23,  31,   8],\n",
       "        [ 12,  21,   0],\n",
       "        [ 10,  19,   0]],\n",
       "\n",
       "       ...,\n",
       "\n",
       "       [[177, 180, 153],\n",
       "        [ 67,  66,  45],\n",
       "        [ 10,   8,   0],\n",
       "        ...,\n",
       "        [227, 224, 119],\n",
       "        [221, 217, 117],\n",
       "        [234, 231, 134]],\n",
       "\n",
       "       [[190, 186, 183],\n",
       "        [ 80,  76,  77],\n",
       "        [ 28,  21,  29],\n",
       "        ...,\n",
       "        [228, 222, 138],\n",
       "        [226, 220, 142],\n",
       "        [227, 223, 149]],\n",
       "\n",
       "       [[231, 223, 246],\n",
       "        [159, 151, 174],\n",
       "        [146, 137, 158],\n",
       "        ...,\n",
       "        [218, 210, 138],\n",
       "        [226, 218, 155],\n",
       "        [219, 213, 153]]], dtype=uint8)"
      ]
     },
     "execution_count": 33,
     "metadata": {},
     "output_type": "execute_result"
    }
   ],
   "source": []
  },
  {
   "cell_type": "code",
   "execution_count": null,
   "metadata": {},
   "outputs": [],
   "source": []
  }
 ],
 "metadata": {
  "kernelspec": {
   "display_name": "Python 3",
   "language": "python",
   "name": "python3"
  },
  "language_info": {
   "codemirror_mode": {
    "name": "ipython",
    "version": 3
   },
   "file_extension": ".py",
   "mimetype": "text/x-python",
   "name": "python",
   "nbconvert_exporter": "python",
   "pygments_lexer": "ipython3",
   "version": "3.7.4"
  }
 },
 "nbformat": 4,
 "nbformat_minor": 2
}
